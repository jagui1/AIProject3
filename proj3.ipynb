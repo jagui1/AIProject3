{
 "cells": [
  {
   "cell_type": "code",
   "execution_count": 24,
   "metadata": {
    "collapsed": false
   },
   "outputs": [
    {
     "ename": "SyntaxError",
     "evalue": "non-default argument follows default argument (<ipython-input-24-ad3d4de5d368>, line 13)",
     "output_type": "error",
     "traceback": [
      "\u001b[0;36m  File \u001b[0;32m\"<ipython-input-24-ad3d4de5d368>\"\u001b[0;36m, line \u001b[0;32m13\u001b[0m\n\u001b[0;31m    def plot_confusion_matrix(cm, title='Confusion matrix', cmap=plt.cm.Blues, names):\u001b[0m\n\u001b[0m                             ^\u001b[0m\n\u001b[0;31mSyntaxError\u001b[0m\u001b[0;31m:\u001b[0m non-default argument follows default argument\n"
     ]
    }
   ],
   "source": [
    "%matplotlib inline\n",
    "import matplotlib.pyplot as plt\n",
    "import matplotlib.image as mpimg\n",
    "import numpy as np\n",
    "# Standard scientific Python imports\n",
    "from sklearn.neighbors import KNeighborsClassifier\n",
    "# Import datasets, classifiers and performance metrics\n",
    "from sklearn import datasets, svm, metrics\n",
    "from sklearn.cross_validation import train_test_split\n",
    "from sklearn.metrics import confusion_matrix\n",
    "import pickle\n",
    "\n",
    "def plot_confusion_matrix(cm, title='Confusion matrix', cmap=plt.cm.Blues, ):\n",
    "    plt.imshow(cm, interpolation='nearest', cmap=cmap)\n",
    "    plt.title(title)\n",
    "    plt.colorbar()\n",
    "    tick_marks = np.arange(len(names))\n",
    "    plt.xticks(tick_marks, names, rotation=45)\n",
    "    plt.yticks(tick_marks, names)\n",
    "    plt.tight_layout()\n",
    "    plt.ylabel('True label')\n",
    "    plt.xlabel('Predicted label')\n",
    "\n",
    "def main():\n",
    "    with open('data.pickle', 'rb') as f:\n",
    "        # The protocol version used is detected automatically, so we do not\n",
    "        # have to specify it.\n",
    "        pickleData = pickle.load(f)\n",
    "\n",
    "    data = pickleData[0]\n",
    "    labels = pickleData[1]\n",
    "    \n",
    "    X = data\n",
    "    y = labels\n",
    "    \n",
    "    # Split the data into a training set and a test set\n",
    "    X_train, X_test, y_train, y_test = train_test_split(X, y, random_state=0)\n",
    "    \n",
    "    #classifier = svm.SVC(gamma=0.001, C=100.)\n",
    "    #classifier.fit(data, labels)\n",
    "\n",
    "    # Run classifier, using a model that is too regularized (C too low) to see\n",
    "    # the impact on the results\n",
    "    classifier = svm.SVC(kernel='linear', C=0.01)\n",
    "    y_pred = classifier.fit(X_train, y_train).predict(X_test)\n",
    "    \n",
    "    # Compute confusion matrix\n",
    "    cm = confusion_matrix(y_test, y_pred)\n",
    "    np.set_printoptions(precision=2)\n",
    "    print('Confusion matrix, without normalization')\n",
    "    print(cm)\n",
    "    plt.figure()\n",
    "    plot_confusion_matrix(cm)\n",
    "\n",
    "    # Normalize the confusion matrix by row (i.e by the number of samples\n",
    "    # in each class)\n",
    "    cm_normalized = cm.astype('float') / cm.sum(axis=1)[:, np.newaxis]\n",
    "    print('Normalized confusion matrix')\n",
    "    print(cm_normalized)\n",
    "    plt.figure()\n",
    "    plot_confusion_matrix(cm_normalized, title='Normalized confusion matrix', [\"heart\",\"hat\",\"hash\",\"dollar\",\"smile\"])\n",
    "\n",
    "    plt.show()\n",
    "\n",
    "    #neigh = KNeighborsClassifier(n_neighbors=5)\n",
    "    #neigh.fit(data, labels) \n",
    "    \n",
    "    '''curPath = \"./training/04/30.jpg\"\n",
    "    test = mpimg.imread(curPath)\n",
    "    test1 = np.array(test)\n",
    "    test1 = np.sum(test, 2).flatten()\n",
    "    test1 = test1.reshape(1,-1)\n",
    "    plt.imshow(test, cmap=plt.cm.gray_r, interpolation='nearest')\n",
    "    print(neigh.predict(test1))'''\n",
    "    \n",
    "main()"
   ]
  },
  {
   "cell_type": "code",
   "execution_count": null,
   "metadata": {
    "collapsed": false
   },
   "outputs": [],
   "source": [
    "    "
   ]
  },
  {
   "cell_type": "code",
   "execution_count": null,
   "metadata": {
    "collapsed": true
   },
   "outputs": [],
   "source": []
  }
 ],
 "metadata": {
  "kernelspec": {
   "display_name": "Python 3",
   "language": "python",
   "name": "python3"
  },
  "language_info": {
   "codemirror_mode": {
    "name": "ipython",
    "version": 3
   },
   "file_extension": ".py",
   "mimetype": "text/x-python",
   "name": "python",
   "nbconvert_exporter": "python",
   "pygments_lexer": "ipython3",
   "version": "3.5.1"
  }
 },
 "nbformat": 4,
 "nbformat_minor": 0
}
